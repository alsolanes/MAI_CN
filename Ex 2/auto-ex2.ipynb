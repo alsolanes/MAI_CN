{
 "cells": [
  {
   "cell_type": "code",
   "execution_count": 1,
   "metadata": {
    "collapsed": false
   },
   "outputs": [
    {
     "name": "stdout",
     "output_type": "stream",
     "text": [
      "['rb125.net', '256_4_4_2_15_18_p.net', '256_4_4_4_13_18_p.net'] ['football.net', 'dolphins.net', 'zachary_unwh.net', 'airports_UW.net', 'cat_cortex_sim.net'] ['graph3+1+3.net', 'star.net', '20x2+5x2.net', 'graph4+4.net']\n"
     ]
    }
   ],
   "source": [
    "from os import listdir\n",
    "from os.path import isfile, join\n",
    "model_files = [f for f in listdir('/home/aleix/Documents/MAI_CN/networks/model') if isfile(join('/home/aleix/Documents/MAI_CN/networks/model', f))]\n",
    "model_nets = [a for a in model_files if '.net' in a and not '.out' in a]\n",
    "real_files = [f for f in listdir('/home/aleix/Documents/MAI_CN/networks/real') if isfile(join('/home/aleix/Documents/MAI_CN/networks/real', f))]\n",
    "real_nets = [a for a in real_files if '.net' in a and not '.out' in a]\n",
    "toy_files = [f for f in listdir('/home/aleix/Documents/MAI_CN/networks/toy') if isfile(join('/home/aleix/Documents/MAI_CN/networks/toy', f))]\n",
    "toy_nets = [a for a in toy_files if '.net' in a and not '.out' in a]\n",
    "print model_nets, real_nets, toy_nets"
   ]
  },
  {
   "cell_type": "code",
   "execution_count": 2,
   "metadata": {
    "collapsed": false
   },
   "outputs": [
    {
     "name": "stdout",
     "output_type": "stream",
     "text": [
      "/home/aleix/Documents/MAI_CN/radatools-4.0-linux64/Communities_Detection/Communities_Detection.exe v  WN erfrtrfr   5 /home/aleix/Documents/MAI_CN/networks/model/rb125.net /home/aleix/Documents/MAI_CN/networks/model/rb125.net.out\n",
      "/home/aleix/Documents/MAI_CN/radatools-4.0-linux64/Communities_Detection/Communities_Detection.exe v  WN erfrtrfr   5 /home/aleix/Documents/MAI_CN/networks/model/256_4_4_2_15_18_p.net /home/aleix/Documents/MAI_CN/networks/model/256_4_4_2_15_18_p.net.out\n",
      "/home/aleix/Documents/MAI_CN/radatools-4.0-linux64/Communities_Detection/Communities_Detection.exe v  WN erfrtrfr   5 /home/aleix/Documents/MAI_CN/networks/model/256_4_4_4_13_18_p.net /home/aleix/Documents/MAI_CN/networks/model/256_4_4_4_13_18_p.net.out\n"
     ]
    }
   ],
   "source": [
    "import os,subprocess\n",
    "rada_path = '/home/aleix/Documents/MAI_CN/radatools-4.0-linux64/Communities_Detection'\n",
    "for itm in model_nets:\n",
    "    net_file = '/home/aleix/Documents/MAI_CN/networks/model/'+itm\n",
    "    #subprocess.call(rada_path+\"/Communities_Detection.exe v  WN erfrtrfr   5 \"+net_file+ \" \"+net_file+\".out\")\n",
    "    print rada_path+\"/Communities_Detection.exe v  WN erfrtrfr   5 \"+net_file+ \" \"+net_file+\".out\""
   ]
  },
  {
   "cell_type": "code",
   "execution_count": 3,
   "metadata": {
    "collapsed": false
   },
   "outputs": [
    {
     "name": "stdout",
     "output_type": "stream",
     "text": [
      "/home/aleix/Documents/MAI_CN/radatools-4.0-linux64/Communities_Detection/Communities_Detection.exe v  WN erfrtrfr   5 /home/aleix/Documents/MAI_CN/networks/real/football.net /home/aleix/Documents/MAI_CN/networks/real/football.net.out\n",
      "/home/aleix/Documents/MAI_CN/radatools-4.0-linux64/Communities_Detection/Communities_Detection.exe v  WN erfrtrfr   5 /home/aleix/Documents/MAI_CN/networks/real/dolphins.net /home/aleix/Documents/MAI_CN/networks/real/dolphins.net.out\n",
      "/home/aleix/Documents/MAI_CN/radatools-4.0-linux64/Communities_Detection/Communities_Detection.exe v  WN erfrtrfr   5 /home/aleix/Documents/MAI_CN/networks/real/zachary_unwh.net /home/aleix/Documents/MAI_CN/networks/real/zachary_unwh.net.out\n",
      "/home/aleix/Documents/MAI_CN/radatools-4.0-linux64/Communities_Detection/Communities_Detection.exe v  WN erfrtrfr   5 /home/aleix/Documents/MAI_CN/networks/real/airports_UW.net /home/aleix/Documents/MAI_CN/networks/real/airports_UW.net.out\n",
      "/home/aleix/Documents/MAI_CN/radatools-4.0-linux64/Communities_Detection/Communities_Detection.exe v  WN erfrtrfr   5 /home/aleix/Documents/MAI_CN/networks/real/cat_cortex_sim.net /home/aleix/Documents/MAI_CN/networks/real/cat_cortex_sim.net.out\n"
     ]
    }
   ],
   "source": [
    "import os,subprocess\n",
    "rada_path = '/home/aleix/Documents/MAI_CN/radatools-4.0-linux64/Communities_Detection'\n",
    "for itm in real_nets:\n",
    "    net_file = '/home/aleix/Documents/MAI_CN/networks/real/'+itm\n",
    "    #subprocess.call(rada_path+\"/Communities_Detection.exe v  WN erfrtrfr   5 \"+net_file+ \" \"+net_file+\".out\")\n",
    "    print rada_path+\"/Communities_Detection.exe v  WN erfrtrfr   5 \"+net_file+ \" \"+net_file+\".out\""
   ]
  },
  {
   "cell_type": "code",
   "execution_count": 4,
   "metadata": {
    "collapsed": false
   },
   "outputs": [
    {
     "name": "stdout",
     "output_type": "stream",
     "text": [
      "/home/aleix/Documents/MAI_CN/radatools-4.0-linux64/Communities_Detection/Communities_Detection.exe v  WN erfrtrfr   5 /home/aleix/Documents/MAI_CN/networks/toy/graph3+1+3.net /home/aleix/Documents/MAI_CN/networks/toy/graph3+1+3.net.out\n",
      "/home/aleix/Documents/MAI_CN/radatools-4.0-linux64/Communities_Detection/Communities_Detection.exe v  WN erfrtrfr   5 /home/aleix/Documents/MAI_CN/networks/toy/star.net /home/aleix/Documents/MAI_CN/networks/toy/star.net.out\n",
      "/home/aleix/Documents/MAI_CN/radatools-4.0-linux64/Communities_Detection/Communities_Detection.exe v  WN erfrtrfr   5 /home/aleix/Documents/MAI_CN/networks/toy/20x2+5x2.net /home/aleix/Documents/MAI_CN/networks/toy/20x2+5x2.net.out\n",
      "/home/aleix/Documents/MAI_CN/radatools-4.0-linux64/Communities_Detection/Communities_Detection.exe v  WN erfrtrfr   5 /home/aleix/Documents/MAI_CN/networks/toy/graph4+4.net /home/aleix/Documents/MAI_CN/networks/toy/graph4+4.net.out\n"
     ]
    }
   ],
   "source": [
    "import os,subprocess\n",
    "rada_path = '/home/aleix/Documents/MAI_CN/radatools-4.0-linux64/Communities_Detection'\n",
    "for itm in toy_nets:\n",
    "    net_file = '/home/aleix/Documents/MAI_CN/networks/toy/'+itm\n",
    "    #subprocess.call(rada_path+\"/Communities_Detection.exe v  WN erfrtrfr   5 \"+net_file+ \" \"+net_file+\".out\")\n",
    "    print rada_path+\"/Communities_Detection.exe v  WN erfrtrfr   5 \"+net_file+ \" \"+net_file+\".out\""
   ]
  },
  {
   "cell_type": "code",
   "execution_count": 9,
   "metadata": {
    "collapsed": false
   },
   "outputs": [
    {
     "name": "stdout",
     "output_type": "stream",
     "text": [
      "['256_4_4_2_15_18_p.net.out', 'rb125.net.out', '256_4_4_4_13_18_p.net.out'] ['dolphins.net.out', 'airports_UW.net.out', 'cat_cortex_sim.net.out', 'football.net.out', 'zachary_unwh.net.out'] ['20x2+5x2.net.out', 'graph3+1+3.net.out', 'graph4+4.net.out', 'star.net.out']\n",
      "['256_4_4_4_13_18_p.clu', 'rb125-3.clu', 'rb125-2.clu', 'rb125-1.clu', '256_4_4_2_15_18_p.clu'] ['cat_cortex_sim.clu', 'zachary_unwh-real.clu', 'dolphins-real.clu', 'football-conferences.clu'] ['graph4+4.clu', 'graph3+1+3.clu', '20x2+5x2.clu', 'star.clu']\n"
     ]
    }
   ],
   "source": [
    "model_files = [f for f in listdir('/home/aleix/Documents/MAI_CN/networks/model') if isfile(join('/home/aleix/Documents/MAI_CN/networks/model', f))]\n",
    "model_clu = [a for a in model_files if '.clu' in a and not '.out' in a]\n",
    "real_files = [f for f in listdir('/home/aleix/Documents/MAI_CN/networks/real') if isfile(join('/home/aleix/Documents/MAI_CN/networks/real', f))]\n",
    "real_clu = [a for a in real_files if '.clu' in a and not '.out' in a]\n",
    "toy_files = [f for f in listdir('/home/aleix/Documents/MAI_CN/networks/toy') if isfile(join('/home/aleix/Documents/MAI_CN/networks/toy', f))]\n",
    "toy_clu = [a for a in toy_files if '.clu' in a and not '.out' in a]\n",
    "\n",
    "model_files = [f for f in listdir('/home/aleix/Documents/MAI_CN/networks/model') if isfile(join('/home/aleix/Documents/MAI_CN/networks/model', f))]\n",
    "model_out = [a for a in model_files if '.out' in a and not '.log' in a]\n",
    "real_files = [f for f in listdir('/home/aleix/Documents/MAI_CN/networks/real') if isfile(join('/home/aleix/Documents/MAI_CN/networks/real', f))]\n",
    "real_out = [a for a in real_files if '.out' in a and not '.log' in a]\n",
    "toy_files = [f for f in listdir('/home/aleix/Documents/MAI_CN/networks/toy') if isfile(join('/home/aleix/Documents/MAI_CN/networks/toy', f))]\n",
    "toy_out = [a for a in toy_files if '.out' in a and not '.log' in a]\n",
    "print model_out, real_out, toy_out\n",
    "print model_clu, real_clu, toy_clu"
   ]
  },
  {
   "cell_type": "code",
   "execution_count": 12,
   "metadata": {
    "collapsed": false
   },
   "outputs": [
    {
     "name": "stdout",
     "output_type": "stream",
     "text": [
      "/home/aleix/Documents/MAI_CN/radatools-4.0-linux64/Communities_Tools/Compare_Partitions.exe /home/aleix/Documents/MAI_CN/networks/model/256_4_4_4_13_18_p.clu /home/aleix/Documents/MAI_CN/networks/model/256_4_4_4_13_18_p.clu.out2\n",
      "/home/aleix/Documents/MAI_CN/radatools-4.0-linux64/Communities_Tools/Compare_Partitions.exe /home/aleix/Documents/MAI_CN/networks/model/rb125-3.clu /home/aleix/Documents/MAI_CN/networks/model/rb125-3.clu.out2\n",
      "/home/aleix/Documents/MAI_CN/radatools-4.0-linux64/Communities_Tools/Compare_Partitions.exe /home/aleix/Documents/MAI_CN/networks/model/rb125-2.clu /home/aleix/Documents/MAI_CN/networks/model/rb125-2.clu.out2\n",
      "/home/aleix/Documents/MAI_CN/radatools-4.0-linux64/Communities_Tools/Compare_Partitions.exe /home/aleix/Documents/MAI_CN/networks/model/rb125-1.clu /home/aleix/Documents/MAI_CN/networks/model/rb125-1.clu.out2\n",
      "/home/aleix/Documents/MAI_CN/radatools-4.0-linux64/Communities_Tools/Compare_Partitions.exe /home/aleix/Documents/MAI_CN/networks/model/256_4_4_2_15_18_p.clu /home/aleix/Documents/MAI_CN/networks/model/256_4_4_2_15_18_p.clu.out2\n"
     ]
    }
   ],
   "source": [
    "import os,subprocess\n",
    "rada_path = '/home/aleix/Documents/MAI_CN/radatools-4.0-linux64/Communities_Tools'\n",
    "for itm in model_clu:\n",
    "    clu_file = '/home/aleix/Documents/MAI_CN/networks/model/'+itm\n",
    "    #subprocess.call(rada_path+\"/Communities_Detection.exe v  WN erfrtrfr   5 \"+net_file+ \" \"+net_file+\".out\")\n",
    "    print rada_path+\"/Compare_Partitions.exe \"+clu_file+\" \"+clu_file+\".out2\""
   ]
  },
  {
   "cell_type": "code",
   "execution_count": null,
   "metadata": {
    "collapsed": true
   },
   "outputs": [],
   "source": [
    "import os,subprocess\n",
    "rada_path = '/home/aleix/Documents/MAI_CN/radatools-4.0-linux64/Communities_Tools'\n",
    "for itm in real_clu:\n",
    "    clu_file = '/home/aleix/Documents/MAI_CN/networks/real/'+itm\n",
    "    #subprocess.call(rada_path+\"/Communities_Detection.exe v  WN erfrtrfr   5 \"+net_file+ \" \"+net_file+\".out\")\n",
    "    print rada_path+\"/Compare_Partitions.exe \"+clu_file+\" \"+clu2_file+\" \"+clu_file+\".out2\""
   ]
  },
  {
   "cell_type": "code",
   "execution_count": null,
   "metadata": {
    "collapsed": true
   },
   "outputs": [],
   "source": [
    "import os,subprocess\n",
    "rada_path = '/home/aleix/Documents/MAI_CN/radatools-4.0-linux64/Communities_Tools'\n",
    "for itm in toy_clu:\n",
    "    clu_file = '/home/aleix/Documents/MAI_CN/networks/toy/'+itm\n",
    "    #subprocess.call(rada_path+\"/Communities_Detection.exe v  WN erfrtrfr   5 \"+net_file+ \" \"+net_file+\".out\")\n",
    "    print rada_path+\"/Compare_Partitions.exe \"+clu_file+\" \"+clu2_file+\" \"+clu_file+\".out2\""
   ]
  }
 ],
 "metadata": {
  "kernelspec": {
   "display_name": "Python 2",
   "language": "python",
   "name": "python2"
  },
  "language_info": {
   "codemirror_mode": {
    "name": "ipython",
    "version": 2
   },
   "file_extension": ".py",
   "mimetype": "text/x-python",
   "name": "python",
   "nbconvert_exporter": "python",
   "pygments_lexer": "ipython2",
   "version": "2.7.11"
  }
 },
 "nbformat": 4,
 "nbformat_minor": 0
}
